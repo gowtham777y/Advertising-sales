{
  "nbformat": 4,
  "nbformat_minor": 0,
  "metadata": {
    "colab": {
      "name": "Advertising.ipynb",
      "provenance": [],
      "mount_file_id": "17Ljz96oeDzlkAAkJnXo7mbO-ylfgrYVY",
      "authorship_tag": "ABX9TyPe2KeGJVYxp6Jo4fHsWZsj",
      "include_colab_link": true
    },
    "kernelspec": {
      "name": "python3",
      "display_name": "Python 3"
    }
  },
  "cells": [
    {
      "cell_type": "markdown",
      "metadata": {
        "id": "view-in-github",
        "colab_type": "text"
      },
      "source": [
        "<a href=\"https://colab.research.google.com/github/gowtham777y/Advertising-sales/blob/main/Advertising.ipynb\" target=\"_parent\"><img src=\"https://colab.research.google.com/assets/colab-badge.svg\" alt=\"Open In Colab\"/></a>"
      ]
    },
    {
      "cell_type": "code",
      "metadata": {
        "id": "dEbACxG_uM2C"
      },
      "source": [
        "import numpy as np\r\n",
        "import pandas as pd\r\n",
        "import matplotlib.pyplot as plt"
      ],
      "execution_count": 2,
      "outputs": []
    },
    {
      "cell_type": "code",
      "metadata": {
        "id": "npahm8kjv4VK"
      },
      "source": [
        "df=pd.read_csv(\"Advertising.csv\")"
      ],
      "execution_count": 4,
      "outputs": []
    },
    {
      "cell_type": "code",
      "metadata": {
        "colab": {
          "base_uri": "https://localhost:8080/",
          "height": 402
        },
        "id": "UHXx_yXYwJDH",
        "outputId": "02f1ddf1-c0ad-4173-b4e2-8567f791cc47"
      },
      "source": [
        "df"
      ],
      "execution_count": 6,
      "outputs": [
        {
          "output_type": "execute_result",
          "data": {
            "text/html": [
              "<div>\n",
              "<style scoped>\n",
              "    .dataframe tbody tr th:only-of-type {\n",
              "        vertical-align: middle;\n",
              "    }\n",
              "\n",
              "    .dataframe tbody tr th {\n",
              "        vertical-align: top;\n",
              "    }\n",
              "\n",
              "    .dataframe thead th {\n",
              "        text-align: right;\n",
              "    }\n",
              "</style>\n",
              "<table border=\"1\" class=\"dataframe\">\n",
              "  <thead>\n",
              "    <tr style=\"text-align: right;\">\n",
              "      <th></th>\n",
              "      <th>TV</th>\n",
              "      <th>Radio</th>\n",
              "      <th>Newspaper</th>\n",
              "      <th>Sales</th>\n",
              "    </tr>\n",
              "  </thead>\n",
              "  <tbody>\n",
              "    <tr>\n",
              "      <th>0</th>\n",
              "      <td>230.1</td>\n",
              "      <td>37.8</td>\n",
              "      <td>69.2</td>\n",
              "      <td>22.1</td>\n",
              "    </tr>\n",
              "    <tr>\n",
              "      <th>1</th>\n",
              "      <td>44.5</td>\n",
              "      <td>39.3</td>\n",
              "      <td>45.1</td>\n",
              "      <td>10.4</td>\n",
              "    </tr>\n",
              "    <tr>\n",
              "      <th>2</th>\n",
              "      <td>17.2</td>\n",
              "      <td>45.9</td>\n",
              "      <td>69.3</td>\n",
              "      <td>12.0</td>\n",
              "    </tr>\n",
              "    <tr>\n",
              "      <th>3</th>\n",
              "      <td>151.5</td>\n",
              "      <td>41.3</td>\n",
              "      <td>58.5</td>\n",
              "      <td>16.5</td>\n",
              "    </tr>\n",
              "    <tr>\n",
              "      <th>4</th>\n",
              "      <td>180.8</td>\n",
              "      <td>10.8</td>\n",
              "      <td>58.4</td>\n",
              "      <td>17.9</td>\n",
              "    </tr>\n",
              "    <tr>\n",
              "      <th>...</th>\n",
              "      <td>...</td>\n",
              "      <td>...</td>\n",
              "      <td>...</td>\n",
              "      <td>...</td>\n",
              "    </tr>\n",
              "    <tr>\n",
              "      <th>195</th>\n",
              "      <td>38.2</td>\n",
              "      <td>3.7</td>\n",
              "      <td>13.8</td>\n",
              "      <td>7.6</td>\n",
              "    </tr>\n",
              "    <tr>\n",
              "      <th>196</th>\n",
              "      <td>94.2</td>\n",
              "      <td>4.9</td>\n",
              "      <td>8.1</td>\n",
              "      <td>14.0</td>\n",
              "    </tr>\n",
              "    <tr>\n",
              "      <th>197</th>\n",
              "      <td>177.0</td>\n",
              "      <td>9.3</td>\n",
              "      <td>6.4</td>\n",
              "      <td>14.8</td>\n",
              "    </tr>\n",
              "    <tr>\n",
              "      <th>198</th>\n",
              "      <td>283.6</td>\n",
              "      <td>42.0</td>\n",
              "      <td>66.2</td>\n",
              "      <td>25.5</td>\n",
              "    </tr>\n",
              "    <tr>\n",
              "      <th>199</th>\n",
              "      <td>232.1</td>\n",
              "      <td>8.6</td>\n",
              "      <td>8.7</td>\n",
              "      <td>18.4</td>\n",
              "    </tr>\n",
              "  </tbody>\n",
              "</table>\n",
              "<p>200 rows × 4 columns</p>\n",
              "</div>"
            ],
            "text/plain": [
              "        TV  Radio  Newspaper  Sales\n",
              "0    230.1   37.8       69.2   22.1\n",
              "1     44.5   39.3       45.1   10.4\n",
              "2     17.2   45.9       69.3   12.0\n",
              "3    151.5   41.3       58.5   16.5\n",
              "4    180.8   10.8       58.4   17.9\n",
              "..     ...    ...        ...    ...\n",
              "195   38.2    3.7       13.8    7.6\n",
              "196   94.2    4.9        8.1   14.0\n",
              "197  177.0    9.3        6.4   14.8\n",
              "198  283.6   42.0       66.2   25.5\n",
              "199  232.1    8.6        8.7   18.4\n",
              "\n",
              "[200 rows x 4 columns]"
            ]
          },
          "metadata": {
            "tags": []
          },
          "execution_count": 6
        }
      ]
    },
    {
      "cell_type": "code",
      "metadata": {
        "id": "dNwcMqrEyRqs"
      },
      "source": [
        "x=df['TV'].values.reshape(-1,1)\r\n",
        "y=df['Sales'].values.reshape(-1,1) #collecting tv and sales as 2-D arrays"
      ],
      "execution_count": 8,
      "outputs": []
    },
    {
      "cell_type": "code",
      "metadata": {
        "id": "-0devP0nyrS7"
      },
      "source": [
        "from sklearn.model_selection import train_test_split"
      ],
      "execution_count": 10,
      "outputs": []
    },
    {
      "cell_type": "code",
      "metadata": {
        "id": "LPWBgW0xywFe"
      },
      "source": [
        "train_x,test_x,train_y,test_y=train_test_split(x,y,test_size=0.2,random_state=0)"
      ],
      "execution_count": 12,
      "outputs": []
    },
    {
      "cell_type": "code",
      "metadata": {
        "id": "0280kd-UzZpA"
      },
      "source": [
        "from sklearn.linear_model import LinearRegression"
      ],
      "execution_count": 14,
      "outputs": []
    },
    {
      "cell_type": "code",
      "metadata": {
        "id": "7myk6TdPzeKf"
      },
      "source": [
        "Lin=LinearRegression()"
      ],
      "execution_count": 16,
      "outputs": []
    },
    {
      "cell_type": "code",
      "metadata": {
        "colab": {
          "base_uri": "https://localhost:8080/"
        },
        "id": "m_weZw3Pzgtx",
        "outputId": "dfcc0cc4-9c82-4bcf-c46b-45f94060325f"
      },
      "source": [
        "Lin.fit(train_x,train_y)"
      ],
      "execution_count": 18,
      "outputs": [
        {
          "output_type": "execute_result",
          "data": {
            "text/plain": [
              "LinearRegression(copy_X=True, fit_intercept=True, n_jobs=None, normalize=False)"
            ]
          },
          "metadata": {
            "tags": []
          },
          "execution_count": 18
        }
      ]
    },
    {
      "cell_type": "code",
      "metadata": {
        "id": "Jrd-C6VK0EQy"
      },
      "source": [
        "pred_y=Lin.predict(test_x)"
      ],
      "execution_count": 20,
      "outputs": []
    },
    {
      "cell_type": "code",
      "metadata": {
        "colab": {
          "base_uri": "https://localhost:8080/"
        },
        "id": "bTpItmry0Och",
        "outputId": "ef6c41b6-c78f-4f93-b98d-d115e2d45878"
      },
      "source": [
        "np.concatenate((test_y,pred_y),axis=1)"
      ],
      "execution_count": 22,
      "outputs": [
        {
          "output_type": "execute_result",
          "data": {
            "text/plain": [
              "array([[11.3       , 10.92912965],\n",
              "       [ 8.4       ,  9.88399105],\n",
              "       [12.        , 12.08313684],\n",
              "       [25.4       , 22.93189318],\n",
              "       [16.7       , 16.42699412],\n",
              "       [ 8.7       , 10.22148373],\n",
              "       [ 7.2       ,  7.63585439],\n",
              "       [18.2       , 20.23195181],\n",
              "       [ 9.2       ,  8.45781235],\n",
              "       [16.6       , 17.91849399],\n",
              "       [24.2       , 21.38595901],\n",
              "       [10.6       , 11.90894708],\n",
              "       [15.5       , 15.68668762],\n",
              "       [20.6       , 17.38503783],\n",
              "       [11.8       , 11.32105662],\n",
              "       [13.2       , 13.70527904],\n",
              "       [17.4       , 21.62002651],\n",
              "       [ 1.6       ,  7.20037998],\n",
              "       [14.7       , 11.22851831],\n",
              "       [17.        , 18.77855596],\n",
              "       [26.2       , 22.81758114],\n",
              "       [10.3       , 14.7994085 ],\n",
              "       [16.1       , 16.6937222 ],\n",
              "       [12.9       , 14.33127351],\n",
              "       [ 8.1       , 10.07451111],\n",
              "       [15.2       , 13.86313851],\n",
              "       [17.6       , 16.17659633],\n",
              "       [22.6       , 18.32130782],\n",
              "       [16.6       , 19.35555956],\n",
              "       [ 8.5       ,  8.52857694],\n",
              "       [12.5       , 10.85292163],\n",
              "       [23.7       , 17.98925858],\n",
              "       [16.1       , 22.44198446],\n",
              "       [21.8       , 20.3190467 ],\n",
              "       [ 5.6       ,  7.88080875],\n",
              "       [ 6.7       ,  8.18019741],\n",
              "       [ 9.7       , 10.40656035],\n",
              "       [17.9       , 17.00399772],\n",
              "       [13.6       , 10.88558221],\n",
              "       [ 7.2       ,  8.52313351]])"
            ]
          },
          "metadata": {
            "tags": []
          },
          "execution_count": 22
        }
      ]
    },
    {
      "cell_type": "code",
      "metadata": {
        "colab": {
          "base_uri": "https://localhost:8080/"
        },
        "id": "LMqkabwt0wQx",
        "outputId": "40ed209b-4dbf-47bd-c401-60e9a5828f77"
      },
      "source": [
        "test_y-pred_y"
      ],
      "execution_count": 24,
      "outputs": [
        {
          "output_type": "execute_result",
          "data": {
            "text/plain": [
              "array([[ 0.37087035],\n",
              "       [-1.48399105],\n",
              "       [-0.08313684],\n",
              "       [ 2.46810682],\n",
              "       [ 0.27300588],\n",
              "       [-1.52148373],\n",
              "       [-0.43585439],\n",
              "       [-2.03195181],\n",
              "       [ 0.74218765],\n",
              "       [-1.31849399],\n",
              "       [ 2.81404099],\n",
              "       [-1.30894708],\n",
              "       [-0.18668762],\n",
              "       [ 3.21496217],\n",
              "       [ 0.47894338],\n",
              "       [-0.50527904],\n",
              "       [-4.22002651],\n",
              "       [-5.60037998],\n",
              "       [ 3.47148169],\n",
              "       [-1.77855596],\n",
              "       [ 3.38241886],\n",
              "       [-4.4994085 ],\n",
              "       [-0.5937222 ],\n",
              "       [-1.43127351],\n",
              "       [-1.97451111],\n",
              "       [ 1.33686149],\n",
              "       [ 1.42340367],\n",
              "       [ 4.27869218],\n",
              "       [-2.75555956],\n",
              "       [-0.02857694],\n",
              "       [ 1.64707837],\n",
              "       [ 5.71074142],\n",
              "       [-6.34198446],\n",
              "       [ 1.4809533 ],\n",
              "       [-2.28080875],\n",
              "       [-1.48019741],\n",
              "       [-0.70656035],\n",
              "       [ 0.89600228],\n",
              "       [ 2.71441779],\n",
              "       [-1.32313351]])"
            ]
          },
          "metadata": {
            "tags": []
          },
          "execution_count": 24
        }
      ]
    },
    {
      "cell_type": "code",
      "metadata": {
        "colab": {
          "base_uri": "https://localhost:8080/"
        },
        "id": "Nt7kvlR60zXi",
        "outputId": "31bef8bf-c427-499b-f437-34833d70aee6"
      },
      "source": [
        "np.abs(test_y-pred_y).mean() #Mean error with Tv"
      ],
      "execution_count": 26,
      "outputs": [
        {
          "output_type": "execute_result",
          "data": {
            "text/plain": [
              "2.01486731475948"
            ]
          },
          "metadata": {
            "tags": []
          },
          "execution_count": 26
        }
      ]
    },
    {
      "cell_type": "code",
      "metadata": {
        "colab": {
          "base_uri": "https://localhost:8080/",
          "height": 166
        },
        "id": "4eCe-Dk21mPm",
        "outputId": "3c2406fc-f22f-49b0-8ca4-55be9c1f10a9"
      },
      "source": [
        "df.corr() #how every factor is correlated with one another"
      ],
      "execution_count": 28,
      "outputs": [
        {
          "output_type": "execute_result",
          "data": {
            "text/html": [
              "<div>\n",
              "<style scoped>\n",
              "    .dataframe tbody tr th:only-of-type {\n",
              "        vertical-align: middle;\n",
              "    }\n",
              "\n",
              "    .dataframe tbody tr th {\n",
              "        vertical-align: top;\n",
              "    }\n",
              "\n",
              "    .dataframe thead th {\n",
              "        text-align: right;\n",
              "    }\n",
              "</style>\n",
              "<table border=\"1\" class=\"dataframe\">\n",
              "  <thead>\n",
              "    <tr style=\"text-align: right;\">\n",
              "      <th></th>\n",
              "      <th>TV</th>\n",
              "      <th>Radio</th>\n",
              "      <th>Newspaper</th>\n",
              "      <th>Sales</th>\n",
              "    </tr>\n",
              "  </thead>\n",
              "  <tbody>\n",
              "    <tr>\n",
              "      <th>TV</th>\n",
              "      <td>1.000000</td>\n",
              "      <td>0.054809</td>\n",
              "      <td>0.056648</td>\n",
              "      <td>0.901208</td>\n",
              "    </tr>\n",
              "    <tr>\n",
              "      <th>Radio</th>\n",
              "      <td>0.054809</td>\n",
              "      <td>1.000000</td>\n",
              "      <td>0.354104</td>\n",
              "      <td>0.349631</td>\n",
              "    </tr>\n",
              "    <tr>\n",
              "      <th>Newspaper</th>\n",
              "      <td>0.056648</td>\n",
              "      <td>0.354104</td>\n",
              "      <td>1.000000</td>\n",
              "      <td>0.157960</td>\n",
              "    </tr>\n",
              "    <tr>\n",
              "      <th>Sales</th>\n",
              "      <td>0.901208</td>\n",
              "      <td>0.349631</td>\n",
              "      <td>0.157960</td>\n",
              "      <td>1.000000</td>\n",
              "    </tr>\n",
              "  </tbody>\n",
              "</table>\n",
              "</div>"
            ],
            "text/plain": [
              "                 TV     Radio  Newspaper     Sales\n",
              "TV         1.000000  0.054809   0.056648  0.901208\n",
              "Radio      0.054809  1.000000   0.354104  0.349631\n",
              "Newspaper  0.056648  0.354104   1.000000  0.157960\n",
              "Sales      0.901208  0.349631   0.157960  1.000000"
            ]
          },
          "metadata": {
            "tags": []
          },
          "execution_count": 28
        }
      ]
    },
    {
      "cell_type": "code",
      "metadata": {
        "id": "NZZ2K30o2n_l"
      },
      "source": [
        "x=df[['TV','Radio']].values #Here we take multiple inputs for linear regression and we don't consider newspaper as \r\n",
        "#it contributes very less"
      ],
      "execution_count": 30,
      "outputs": []
    },
    {
      "cell_type": "code",
      "metadata": {
        "id": "gVoMKaIU23gK"
      },
      "source": [
        "train_x,test_x,train_y,test_y=train_test_split(x,y,test_size=0.2,random_state=0)"
      ],
      "execution_count": 33,
      "outputs": []
    },
    {
      "cell_type": "code",
      "metadata": {
        "colab": {
          "base_uri": "https://localhost:8080/"
        },
        "id": "WdJ7ueUO3JsN",
        "outputId": "26f0eaa1-de9d-4c29-9e44-91a4ebd22166"
      },
      "source": [
        "Lin.fit(train_x,train_y)"
      ],
      "execution_count": 35,
      "outputs": [
        {
          "output_type": "execute_result",
          "data": {
            "text/plain": [
              "LinearRegression(copy_X=True, fit_intercept=True, n_jobs=None, normalize=False)"
            ]
          },
          "metadata": {
            "tags": []
          },
          "execution_count": 35
        }
      ]
    },
    {
      "cell_type": "code",
      "metadata": {
        "id": "okUROjFf3Qh_"
      },
      "source": [
        "pred_y1=Lin.predict(test_x)"
      ],
      "execution_count": 37,
      "outputs": []
    },
    {
      "cell_type": "code",
      "metadata": {
        "colab": {
          "base_uri": "https://localhost:8080/"
        },
        "id": "nZCD36QZ3U9K",
        "outputId": "7f1d416c-4818-46e5-a676-dae7a363db98"
      },
      "source": [
        "np.abs(test_y-pred_y1).mean()#mean error with TV and Radio"
      ],
      "execution_count": 39,
      "outputs": [
        {
          "output_type": "execute_result",
          "data": {
            "text/plain": [
              "1.4032867136894107"
            ]
          },
          "metadata": {
            "tags": []
          },
          "execution_count": 39
        }
      ]
    },
    {
      "cell_type": "code",
      "metadata": {
        "id": "-8kF3V4n3xOJ"
      },
      "source": [
        "x=df[['TV','Radio','Newspaper']].values"
      ],
      "execution_count": 45,
      "outputs": []
    },
    {
      "cell_type": "code",
      "metadata": {
        "id": "MxrwoTu-35qq"
      },
      "source": [
        "train_x,test_x,train_y,test_y=train_test_split(x,y,test_size=0.2,random_state=0)"
      ],
      "execution_count": 47,
      "outputs": []
    },
    {
      "cell_type": "code",
      "metadata": {
        "colab": {
          "base_uri": "https://localhost:8080/"
        },
        "id": "-ypW7R6938ux",
        "outputId": "485d4992-df7c-4a7c-ba2d-6e7301e067d4"
      },
      "source": [
        "Lin.fit(train_x,train_y)"
      ],
      "execution_count": 48,
      "outputs": [
        {
          "output_type": "execute_result",
          "data": {
            "text/plain": [
              "LinearRegression(copy_X=True, fit_intercept=True, n_jobs=None, normalize=False)"
            ]
          },
          "metadata": {
            "tags": []
          },
          "execution_count": 48
        }
      ]
    },
    {
      "cell_type": "code",
      "metadata": {
        "id": "rrGTVioU3_Gw"
      },
      "source": [
        "pred_y2=Lin.predict(test_x)"
      ],
      "execution_count": 50,
      "outputs": []
    },
    {
      "cell_type": "code",
      "metadata": {
        "colab": {
          "base_uri": "https://localhost:8080/"
        },
        "id": "UMQlsSNf4DMy",
        "outputId": "3d0acabc-9b20-4a1a-94b9-eddc5d62b495"
      },
      "source": [
        "np.abs(test_y-pred_y2).mean() #mean error with TV,Newspaper and radio \r\n",
        "#We came to know that Newspaper no very little effect on sales"
      ],
      "execution_count": 52,
      "outputs": [
        {
          "output_type": "execute_result",
          "data": {
            "text/plain": [
              "1.4170313030600667"
            ]
          },
          "metadata": {
            "tags": []
          },
          "execution_count": 52
        }
      ]
    }
  ]
}